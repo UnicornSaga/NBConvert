{
 "cells": [
  {
   "cell_type": "code",
   "execution_count": null,
   "metadata": {
    "collapsed": true,
    "tags": [
     "valid_variable"
    ]
   },
   "outputs": [],
   "source": [
    "x = 0\n",
    "for i in range(10):\n",
    "    x += i\n",
    "\n",
    "print(x)"
   ]
  },
  {
   "cell_type": "code",
   "execution_count": null,
   "metadata": {
    "tags": [
     "invalid_variable"
    ]
   },
   "outputs": [],
   "source": [
    "for i in range(10):\n",
    "    x += i\n",
    "\n",
    "print(x)"
   ]
  },
  {
   "cell_type": "code",
   "execution_count": null,
   "metadata": {
    "tags": [
     "invalid_syntax"
    ]
   },
   "outputs": [],
   "source": [
    "for i in xrange(10):\n",
    "    x += i\n",
    "\n",
    "print(x)"
   ]
  },
  {
   "cell_type": "code",
   "execution_count": null,
   "metadata": {
    "tags": [
     "complex_variable"
    ]
   },
   "outputs": [],
   "source": [
    "for (a, b) in range(10):\n",
    "    print(a, b)\n",
    "\n",
    "i = 0\n",
    "while i < 10:\n",
    "    i += 1\n",
    "\n",
    "with open('utils.py') as f:\n",
    "    f.read()"
   ]
  },
  {
   "cell_type": "code",
   "execution_count": null,
   "metadata": {
    "tags": [
     "missing_import"
    ]
   },
   "outputs": [],
   "source": [
    "from utils import import_func\n",
    "import_func()"
   ]
  }
 ],
 "metadata": {
  "kernelspec": {
   "display_name": "Python 3",
   "language": "python",
   "name": "python3"
  },
  "language_info": {
   "codemirror_mode": {
    "name": "ipython",
    "version": 2
   },
   "file_extension": ".py",
   "mimetype": "text/x-python",
   "name": "python",
   "nbconvert_exporter": "python",
   "pygments_lexer": "ipython2",
   "version": "2.7.6"
  }
 },
 "nbformat": 4,
 "nbformat_minor": 0
}
